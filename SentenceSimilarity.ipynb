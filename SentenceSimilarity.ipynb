{
 "metadata": {
  "language_info": {
   "codemirror_mode": {
    "name": "ipython",
    "version": 3
   },
   "file_extension": ".py",
   "mimetype": "text/x-python",
   "name": "python",
   "nbconvert_exporter": "python",
   "pygments_lexer": "ipython3",
   "version": "3.8.8"
  },
  "orig_nbformat": 2,
  "kernelspec": {
   "name": "python388jvsc74a57bd088dbe2f50565cb9d6bb287b421ac62e2261ef7a3703ea742e9e1e752c4226eb4",
   "display_name": "Python 3.8.8 64-bit ('Research': conda)"
  },
  "metadata": {
   "interpreter": {
    "hash": "88dbe2f50565cb9d6bb287b421ac62e2261ef7a3703ea742e9e1e752c4226eb4"
   }
  }
 },
 "nbformat": 4,
 "nbformat_minor": 2,
 "cells": [
  {
   "cell_type": "code",
   "execution_count": 1,
   "metadata": {},
   "outputs": [],
   "source": [
    "from sentence_transformers import SentenceTransformer"
   ]
  },
  {
   "cell_type": "code",
   "execution_count": 2,
   "metadata": {},
   "outputs": [],
   "source": [
    "sentences = [\n",
    "    \"Three years later, the coffin was still full of Jello.\",\n",
    "    \"The fish dreamed of escaping the fishbowl and into the toilet where he saw his friend go.\",\n",
    "    \"The person box was packed with jelly many dozens of months later.\",\n",
    "    \"He found a leprechaun in his walnut shell.\"\n",
    "]"
   ]
  },
  {
   "cell_type": "code",
   "execution_count": 3,
   "metadata": {},
   "outputs": [],
   "source": [
    "model_name = 'bert-base-nli-mean-tokens'"
   ]
  },
  {
   "cell_type": "code",
   "execution_count": 4,
   "metadata": {},
   "outputs": [
    {
     "output_type": "stream",
     "name": "stderr",
     "text": [
      "Some weights of the model checkpoint at C:\\Users\\nidbh/.cache\\torch\\sentence_transformers\\sbert.net_models_bert-base-nli-mean-tokens\\0_BERT were not used when initializing BertModel: ['classifier.bias', 'classifier.weight']\n- This IS expected if you are initializing BertModel from the checkpoint of a model trained on another task or with another architecture (e.g. initializing a BertForSequenceClassification model from a BertForPreTraining model).\n- This IS NOT expected if you are initializing BertModel from the checkpoint of a model that you expect to be exactly identical (initializing a BertForSequenceClassification model from a BertForSequenceClassification model).\n"
     ]
    }
   ],
   "source": [
    "model = SentenceTransformer(model_name)"
   ]
  },
  {
   "cell_type": "code",
   "execution_count": 8,
   "metadata": {},
   "outputs": [
    {
     "output_type": "execute_result",
     "data": {
      "text/plain": [
       "(3, 768)"
      ]
     },
     "metadata": {},
     "execution_count": 8
    }
   ],
   "source": [
    "sentence_embeddings = model.encode(sentences)\n",
    "sentence_embeddings.shape"
   ]
  },
  {
   "cell_type": "code",
   "execution_count": 9,
   "metadata": {},
   "outputs": [
    {
     "output_type": "execute_result",
     "data": {
      "text/plain": [
       "array([[0.6746562, 0.962698 ]], dtype=float32)"
      ]
     },
     "metadata": {},
     "execution_count": 9
    }
   ],
   "source": [
    "from sklearn.metrics.pairwise import cosine_similarity\n",
    "cosine_similarity(\n",
    "    [sentence_embeddings[0]],\n",
    "    sentence_embeddings[1:]\n",
    ") "
   ]
  },
  {
   "cell_type": "code",
   "execution_count": 7,
   "metadata": {},
   "outputs": [],
   "source": [
    "sentences = [\n",
    "    \"Obama addressed the press at white house conference\",\n",
    "    \"the press are eager to listen obama's say at the meeting\",\n",
    "    \"Obama talked with the press at the presidential white house meet\"\n",
    "]"
   ]
  },
  {
   "cell_type": "code",
   "execution_count": 10,
   "metadata": {},
   "outputs": [],
   "source": [
    "data = {'DocumentMetadata': {'Pages': 1}, 'Blocks': [{'BlockType': 'PAGE', 'Geometry': {'BoundingBox': {'Width': 1.0, 'Height': 1.0, 'Left': 0.0, 'Top': 0.0}, 'Polygon': [{'X': 3.884141048039519e-17, 'Y': 0.0}, {'X': 1.0, 'Y': 3.8612393947281306e-16}, {'X': 1.0, 'Y': 1.0}, {'X': 0.0, 'Y': 1.0}]}, 'Id': '3224d640-e42a-4e66-80b6-5b4a738f2c49', 'Relationships': [{'Type': 'CHILD', 'Ids': ['71c22b11-e8ee-488f-bd48-e94dfc9efa7f', '26fffb08-7ae6-42a8-992b-1722aab5e54e', '5711aa7e-5644-4971-8938-97901ebe62e2', 'b71587e3-5bee-47f0-a5dd-c54fda0d1afc', '5ae8ceea-c115-48c5-b0e7-4ccab03f7337']}]}, {'BlockType': 'LINE', 'Confidence': 99.88081359863281, 'Text': 'An essay is nothing but a piece of content which is written', 'Geometry': {'BoundingBox': {'Width': 0.9668230414390564, 'Height': 0.1329064667224884, 'Left': 0.008674941956996918, 'Top': 0.034119151532649994}, 'Polygon': [{'X': 0.008674941956996918, 'Y': 0.034119151532649994}, {'X': 0.9754979610443115, 'Y': 0.034119151532649994}, {'X': 0.9754979610443115, 'Y': 0.1670256108045578}, {'X': 0.008674941956996918, 'Y': 0.1670256108045578}]}, 'Id': '71c22b11-e8ee-488f-bd48-e94dfc9efa7f', 'Relationships': [{'Type': \n",
    "'CHILD', 'Ids': ['94827d69-84bd-4c35-9cf1-076f666e3400', '8d1b92c0-1c93-482c-9fa7-306a64b1068b', '04e8b995-85bc-4010-b01f-ef562e96ded1', '747c9ceb-a5fb-4996-8bc3-e10809a2167f', '07ee6026-d132-41d4-b844-34bd5b86ea18', '3c2ba096-93d0-4459-95e9-d5fd1bf5cd79', 'c87c1c0e-37ee-472c-91bf-2cf831667103', '1db51470-55be-4dbb-b460-fdfeda82d136', 'd0cb117f-98ab-42fb-9ba5-6b6a6562d448', '798dad9e-66ce-42a1-b640-9b2d817ecdbc', 'd46ed0e9-91a6-49d2-a216-9689e32b63e7', '5ef4d6b1-6cd6-4982-9acf-d76afae26ced']}]}, {'BlockType': 'LINE', 'Confidence': 99.83685302734375, 'Text': 'from the perception of writer or author. Essays are similar', 'Geometry': {'BoundingBox': {'Width': 0.9610118269920349, 'Height': 0.13109852373600006, 'Left': 0.009102366864681244, 'Top': 0.21013681590557098}, 'Polygon': [{'X': 0.009102366864681244, 'Y': 0.21013681590557098}, {'X': 0.9701141715049744, 'Y': 0.21013681590557098}, {'X': 0.9701141715049744, 'Y': 0.34123533964157104}, {'X': 0.009102366864681244, 'Y': 0.34123533964157104}]}, 'Id': '26fffb08-7ae6-42a8-992b-1722aab5e54e', 'Relationships': [{'Type': 'CHILD', 'Ids': ['33011b9a-1212-48ff-a411-d1d65fa1e5c9', '55d5d17c-ef5e-4d55-8d07-6a89a3ca42fd', 'b5833dd7-574d-4189-b2c9-4e665b3b8295', '294b6bf6-0ca2-4be0-a34e-3d46f4c7be44', 'a2c416c4-5b6d-4f7b-88fc-7f6dc09a6eb2', '1cc9dcae-157d-4d68-ad7e-5d63fb55b21b', '3a1dccd7-6048-46e1-9001-a30bf6309329', '69744bab-49bb-47d3-9a79-f2c3f897e99f', 'ef213cab-663c-49e2-ab1a-7ddbb7d1c420', '4edf7066-cb15-4956-b4b2-74a83d14f3fc']}]}, {'BlockType': 'LINE', 'Confidence': 99.82166290283203, 'Text': 'to a story, pamphlet, thesis, etc. The best thing about', 'Geometry': {'BoundingBox': {'Width': 0.8799442648887634, 'Height': 0.13234850764274597, 'Left': 0.009811550378799438, 'Top': 0.3870599567890167}, 'Polygon': [{'X': 0.009811550378799438, 'Y': 0.3870599567890167}, {'X': 0.8897557854652405, 'Y': 0.3870599567890167}, {'X': 0.8897557854652405, 'Y': 0.5194084644317627}, {'X': 0.009811550378799438, 'Y': 0.5194084644317627}]}, 'Id': '5711aa7e-5644-4971-8938-97901ebe62e2', 'Relationships': [{'Type': 'CHILD', 'Ids': ['5ff9b0a0-23c8-4cd2-8681-40152529aa29', '57633f19-6433-44a2-a43d-0c8c5ab748df', 'cd7d5b6e-6e38-4bac-8e1b-6d9c94fcb886', '52c167bf-76c0-4839-a5c5-6360c0f2f28c', '713fbde8-bb2e-4ce3-8545-9066fc4921e4', '716fbc99-1fd0-4634-a9fe-504aeae9abe8', \n",
    "'aeab2416-5a72-466e-ac58-016bada2436c', '7bb17ac4-99f4-4829-9477-865192835218', 'f5daa7af-89db-432d-931c-4dcc0466d92e', '3e21c24c-ebba-44b7-bf15-294bf4a8309f']}]}, {'BlockType': 'LINE', 'Confidence': 99.78695678710938, 'Text': 'Essay is you can use any type of language - formal or', 'Geometry': {'BoundingBox': {'Width': 0.9064511060714722, 'Height': 0.1324838548898697, 'Left': 0.012170050293207169, 'Top': 0.5640311241149902}, 'Polygon': [{'X': 0.012170050293207169, 'Y': 0.5640311241149902}, {'X': 0.9186211824417114, 'Y': 0.5640311241149902}, {'X': 0.9186211824417114, 'Y': 0.6965149641036987}, {'X': 0.012170050293207169, 'Y': 0.6965149641036987}]}, 'Id': 'b71587e3-5bee-47f0-a5dd-c54fda0d1afc', 'Relationships': [{'Type': 'CHILD', 'Ids': ['6d0a5ed0-8787-4e7b-adb2-3815ff00488d', '7405bad4-ebf0-4ec2-8fa5-4ec0f7bbd509', '01a5f43a-2409-434b-a2e0-97cf3fdbaf3d', '90bbae37-00ba-46b4-8003-db7bfeb6e668', '3d6b8ff8-3a0b-442e-a1ab-259807b9342d', 'cf806383-5e35-4f5c-9d53-5f802ddb45ba', '79c5f157-3aa6-4b13-8571-23c72628340a', '1d9b98c7-1a52-4dc4-8a84-0accf199f9ae', 'acdef048-329e-47cf-bb06-9bbb06f13aa3', '5e6bfd6c-78cc-4a5f-ae16-135654828ec1', '469c992f-9745-4c2b-a8d3-0e36022a688a', '380ff085-4fe6-458e-82b6-f2d1a11b07e3']}]}, {'BlockType': 'LINE', 'Confidence': 98.32854461669922, 'Text': 'informal.', 'Geometry': {'BoundingBox': {'Width': 0.14624576270580292, 'Height': 0.10840409994125366, 'Left': 0.010423839092254639, 'Top': 0.7428397536277771}, 'Polygon': [{'X': 0.010423839092254639, \n",
    "'Y': 0.7428397536277771}, {'X': 0.15666960179805756, 'Y': 0.7428397536277771}, {'X': 0.15666960179805756, 'Y': 0.8512438535690308}, {'X': 0.010423839092254639, 'Y': 0.8512438535690308}]}, 'Id': '5ae8ceea-c115-48c5-b0e7-4ccab03f7337', 'Relationships': [{'Type': 'CHILD', 'Ids': ['ebc54045-b3ab-469c-9ead-161ba13c884d']}]}, {'BlockType': 'WORD', 'Confidence': 99.5672836303711, 'Text': 'An', 'TextType': 'PRINTED', 'Geometry': {'BoundingBox': {'Width': 0.050639428198337555, 'Height': 0.10846815258264542, 'Left': 0.008674941956996918, 'Top': 0.03488709777593613}, 'Polygon': [{'X': 0.008674941956996918, 'Y': 0.03488709777593613}, {'X': 0.05931437015533447, 'Y': 0.03488709777593613}, {'X': 0.05931437015533447, 'Y': 0.14335525035858154}, {'X': 0.008674941956996918, 'Y': 0.14335525035858154}]}, 'Id': '94827d69-84bd-4c35-9cf1-076f666e3400'}, {'BlockType': 'WORD', 'Confidence': 99.9083251953125, 'Text': 'essay', 'TextType': 'PRINTED', 'Geometry': {'BoundingBox': {'Width': 0.10822537541389465, 'Height': 0.10702794045209885, 'Left': 0.06562991440296173, 'Top': 0.0577399805188179}, 'Polygon': [{'X': 0.06562991440296173, 'Y': 0.0577399805188179}, {'X': 0.17385528981685638, 'Y': 0.0577399805188179}, {'X': 0.17385528981685638, 'Y': 0.16476792097091675}, {'X': 0.06562991440296173, 'Y': 0.16476792097091675}]}, 'Id': '8d1b92c0-1c93-482c-9fa7-306a64b1068b'}, {'BlockType': 'WORD', 'Confidence': 99.97308349609375, 'Text': 'is', 'TextType': 'PRINTED', 'Geometry': {'BoundingBox': {'Width': 0.029867470264434814, 'Height': 0.10687777400016785, 'Left': 0.18163330852985382, 'Top': 0.035121574997901917}, 'Polygon': [{'X': 0.18163330852985382, 'Y': 0.035121574997901917}, {'X': 0.21150077879428864, 'Y': 0.035121574997901917}, {'X': 0.21150077879428864, 'Y': 0.14199934899806976}, {'X': 0.18163330852985382, 'Y': 0.14199934899806976}]}, 'Id': '04e8b995-85bc-4010-b01f-ef562e96ded1'}, {'BlockType': 'WORD', 'Confidence': 99.9925765991211, 'Text': 'nothing', 'TextType': 'PRINTED', 'Geometry': {'BoundingBox': {'Width': 0.12413147836923599, 'Height': 0.13277612626552582, 'Left': 0.2194214165210724, 'Top': 0.03424950689077377}, 'Polygon': [{'X': 0.2194214165210724, 'Y': 0.03424950689077377}, {'X': 0.3435528874397278, 'Y': 0.03424950689077377}, {'X': 0.3435528874397278, 'Y': 0.167025625705719}, {'X': 0.2194214165210724, 'Y': 0.167025625705719}]}, 'Id': '747c9ceb-a5fb-4996-8bc3-e10809a2167f'}, {'BlockType': 'WORD', 'Confidence': 99.97293853759766, 'Text': 'but', 'TextType': 'PRINTED', 'Geometry': {'BoundingBox': {'Width': 0.05635866895318031, 'Height': 0.10948289185762405, 'Left': 0.3526175618171692, 'Top': 0.034485798329114914}, 'Polygon': [{'X': 0.3526175618171692, 'Y': 0.034485798329114914}, {'X': 0.4089762270450592, 'Y': 0.034485798329114914}, {'X': 0.4089762270450592, 'Y': 0.14396868646144867}, {'X': 0.3526175618171692, 'Y': 0.14396868646144867}]}, 'Id': '07ee6026-d132-41d4-b844-34bd5b86ea18'}, {'BlockType': 'WORD', 'Confidence': 99.93456268310547, 'Text': 'a', 'TextType': 'PRINTED', 'Geometry': {'BoundingBox': {'Width': 0.024175429716706276, 'Height': 0.08583587408065796, 'Left': 0.4136166274547577, 'Top': 0.05684177577495575}, 'Polygon': [{'X': 0.4136166274547577, 'Y': 0.05684177577495575}, {'X': 0.4377920627593994, 'Y': 0.05684177577495575}, {'X': 0.4377920627593994, 'Y': 0.1426776498556137}, {'X': 0.4136166274547577, 'Y': 0.1426776498556137}]}, 'Id': '3c2ba096-93d0-4459-95e9-d5fd1bf5cd79'}, {'BlockType': 'WORD', 'Confidence': 99.66865539550781, 'Text': 'piece', 'TextType': 'PRINTED', 'Geometry': {'BoundingBox': {'Width': 0.09143965691328049, 'Height': 0.1279645562171936, 'Left': 0.4461381435394287, 'Top': 0.03698131442070007}, 'Polygon': [{'X': 0.4461381435394287, 'Y': 0.03698131442070007}, {'X': 0.5375778079032898, 'Y': 0.03698131442070007}, {'X': 0.5375778079032898, 'Y': 0.16494587063789368}, {'X': 0.4461381435394287, 'Y': 0.16494587063789368}]}, 'Id': 'c87c1c0e-37ee-472c-91bf-2cf831667103'}, {'BlockType': 'WORD', 'Confidence': 99.9967041015625, 'Text': 'of', 'TextType': 'PRINTED', 'Geometry': {'BoundingBox': {'Width': 0.03713874891400337, 'Height': 0.10749731957912445, 'Left': 0.5440959930419922, 'Top': 0.03442293405532837}, 'Polygon': [{'X': 0.5440959930419922, 'Y': 0.03442293405532837}, {'X': 0.5812347531318665, 'Y': 0.03442293405532837}, {'X': 0.5812347531318665, 'Y': 0.14192025363445282}, {'X': 0.5440959930419922, 'Y': 0.14192025363445282}]}, 'Id': '1db51470-55be-4dbb-b460-fdfeda82d136'}, {'BlockType': 'WORD', 'Confidence': 99.8588638305664, 'Text': 'content', 'TextType': 'PRINTED', 'Geometry': {'BoundingBox': {'Width': 0.1269276738166809, 'Height': 0.10510237514972687, 'Left': 0.5857760310173035, 'Top': 0.037367552518844604}, 'Polygon': [{'X': 0.5857760310173035, 'Y': 0.037367552518844604}, {'X': 0.7127037048339844, 'Y': 0.037367552518844604}, {'X': 0.7127037048339844, 'Y': 0.14246992766857147}, {'X': 0.5857760310173035, 'Y': 0.14246992766857147}]}, 'Id': 'd0cb117f-98ab-42fb-9ba5-6b6a6562d448'}, {'BlockType': 'WORD', 'Confidence': 99.97069549560547, 'Text': 'which', 'TextType': 'PRINTED', 'Geometry': {'BoundingBox': {'Width': 0.09953705221414566, 'Height': 0.10870949178934097, 'Left': 0.7176304459571838, 'Top': 0.034119151532649994}, 'Polygon': [{'X': 0.7176304459571838, 'Y': 0.034119151532649994}, {'X': 0.8171675205230713, 'Y': 0.034119151532649994}, {'X': 0.8171675205230713, 'Y': 0.14282864332199097}, {'X': 0.7176304459571838, 'Y': 0.14282864332199097}]}, 'Id': '798dad9e-66ce-42a1-b640-9b2d817ecdbc'}, \n",
    "{'BlockType': 'WORD', 'Confidence': 99.97399139404297, 'Text': 'is', 'TextType': 'PRINTED', 'Geometry': {'BoundingBox': {'Width': 0.029444659128785133, 'Height': 0.10746940970420837, 'Left': 0.8250760436058044, 'Top': 0.03466987982392311}, 'Polygon': [{'X': 0.8250760436058044, 'Y': 0.03466987982392311}, {'X': 0.8545206785202026, 'Y': 0.03466987982392311}, {'X': 0.8545206785202026, 'Y': 0.1421392858028412}, {'X': 0.8250760436058044, 'Y': 0.1421392858028412}]}, 'Id': 'd46ed0e9-91a6-49d2-a216-9689e32b63e7'}, {'BlockType': 'WORD', 'Confidence': 99.75211334228516, 'Text': 'written', 'TextType': 'PRINTED', 'Geometry': {'BoundingBox': {'Width': 0.11348634958267212, 'Height': 0.10850407928228378, 'Left': 0.8620115518569946, 'Top': 0.03501788154244423}, 'Polygon': [{'X': 0.8620115518569946, 'Y': 0.03501788154244423}, {'X': 0.9754979014396667, 'Y': 0.03501788154244423}, {'X': 0.9754979014396667, 'Y': 0.1435219645500183}, {'X': 0.8620115518569946, 'Y': 0.1435219645500183}]}, 'Id': '5ef4d6b1-6cd6-4982-9acf-d76afae26ced'}, {'BlockType': 'WORD', 'Confidence': 99.98551177978516, 'Text': 'from', 'TextType': 'PRINTED', 'Geometry': {'BoundingBox': {'Width': 0.07940217852592468, 'Height': 0.10920970141887665, 'Left': 0.009102366864681244, 'Top': 0.21017087996006012}, 'Polygon': [{'X': 0.009102366864681244, 'Y': 0.21017087996006012}, {'X': 0.08850454539060593, 'Y': 0.21017087996006012}, {'X': 0.08850454539060593, 'Y': 0.31938058137893677}, {'X': 0.009102366864681244, 'Y': 0.31938058137893677}]}, 'Id': '33011b9a-1212-48ff-a411-d1d65fa1e5c9'}, {'BlockType': 'WORD', 'Confidence': 99.99627685546875, 'Text': 'the', 'TextType': 'PRINTED', 'Geometry': {'BoundingBox': {'Width': 0.05611351504921913, 'Height': 0.10541491210460663, 'Left': 0.09519680589437485, 'Top': 0.21196644008159637}, 'Polygon': [{'X': 0.09519680589437485, 'Y': 0.21196644008159637}, {'X': 0.15131032466888428, 'Y': 0.21196644008159637}, {'X': 0.15131032466888428, 'Y': 0.317381352186203}, {'X': 0.09519680589437485, 'Y': 0.317381352186203}]}, 'Id': '55d5d17c-ef5e-4d55-8d07-6a89a3ca42fd'}, {'BlockType': 'WORD', 'Confidence': 99.83885955810547, 'Text': 'perception', 'TextType': 'PRINTED', 'Geometry': {'BoundingBox': {'Width': 0.17588219046592712, 'Height': 0.12828682363033295, 'Left': 0.15898728370666504, 'Top': 0.2129485160112381}, 'Polygon': [{'X': 0.15898728370666504, 'Y': 0.2129485160112381}, {'X': 0.33486947417259216, 'Y': 0.2129485160112381}, {'X': 0.33486947417259216, 'Y': 0.34123533964157104}, {'X': 0.15898728370666504, 'Y': 0.34123533964157104}]}, 'Id': 'b5833dd7-574d-4189-b2c9-4e665b3b8295'}, {'BlockType': 'WORD', 'Confidence': 99.99627685546875, 'Text': 'of', 'TextType': 'PRINTED', 'Geometry': {'BoundingBox': {'Width': 0.03684917092323303, 'Height': 0.10655894130468369, 'Left': 0.3426084816455841, 'Top': 0.21217575669288635}, 'Polygon': [{'X': 0.3426084816455841, 'Y': 0.21217575669288635}, {'X': 0.37945765256881714, 'Y': 0.21217575669288635}, {'X': 0.37945765256881714, 'Y': 0.31873470544815063}, {'X': 0.3426084816455841, 'Y': 0.31873470544815063}]}, 'Id': '294b6bf6-0ca2-4be0-a34e-3d46f4c7be44'}, {'BlockType': 'WORD', 'Confidence': 99.83077239990234, 'Text': 'writer', 'TextType': 'PRINTED', 'Geometry': {'BoundingBox': {'Width': 0.09571041911840439, 'Height': 0.1060330718755722, 'Left': 0.38426485657691956, 'Top': 0.21300341188907623}, 'Polygon': [{'X': 0.38426485657691956, 'Y': 0.21300341188907623}, {'X': 0.47997528314590454, 'Y': 0.21300341188907623}, {'X': 0.47997528314590454, 'Y': 0.31903648376464844}, {'X': 0.38426485657691956, 'Y': 0.31903648376464844}]}, 'Id': 'a2c416c4-5b6d-4f7b-88fc-7f6dc09a6eb2'}, {'BlockType': 'WORD', 'Confidence': 99.98499298095703, 'Text': 'or', 'TextType': 'PRINTED', 'Geometry': {'BoundingBox': {'Width': 0.038202010095119476, 'Height': 0.08366289734840393, 'Left': 0.4856116473674774, 'Top': 0.23442614078521729}, 'Polygon': [{'X': 0.4856116473674774, 'Y': 0.23442614078521729}, {'X': 0.5238136649131775, 'Y': 0.23442614078521729}, {'X': 0.5238136649131775, 'Y': 0.3180890381336212}, {'X': 0.4856116473674774, 'Y': 0.3180890381336212}]}, 'Id': '1cc9dcae-157d-4d68-ad7e-5d63fb55b21b'}, {'BlockType': 'WORD', 'Confidence': 98.93301391601562, 'Text': 'author.', 'TextType': 'PRINTED', 'Geometry': {'BoundingBox': {'Width': 0.1148245632648468, 'Height': 0.10796362161636353, 'Left': 0.5303215384483337, 'Top': 0.21243122220039368}, 'Polygon': [{'X': 0.5303215384483337, 'Y': 0.21243122220039368}, {'X': 0.6451460719108582, 'Y': 0.21243122220039368}, {'X': 0.6451460719108582, 'Y': 0.3203948438167572}, {'X': 0.5303215384483337, 'Y': 0.3203948438167572}]}, 'Id': '3a1dccd7-6048-46e1-9001-a30bf6309329'}, {'BlockType': 'WORD', 'Confidence': 99.94184875488281, 'Text': 'Essays', 'TextType': 'PRINTED', 'Geometry': {'BoundingBox': {'Width': 0.1297859400510788, 'Height': 0.1309470236301422, 'Left': 0.6552820801734924, 'Top': 0.21013681590557098}, 'Polygon': [{'X': 0.6552820801734924, 'Y': 0.21013681590557098}, {'X': 0.7850680351257324, 'Y': \n",
    "0.21013681590557098}, {'X': 0.7850680351257324, 'Y': 0.3410838544368744}, {'X': 0.6552820801734924, 'Y': 0.3410838544368744}]}, 'Id': '69744bab-49bb-47d3-9a79-f2c3f897e99f'}, {'BlockType': 'WORD', 'Confidence': 99.96829223632812, 'Text': 'are', 'TextType': 'PRINTED', 'Geometry': {'BoundingBox': {'Width': 0.05650635063648224, 'Height': 0.08486174046993256, 'Left': 0.7938128113746643, 'Top': 0.2337663322687149}, 'Polygon': [{'X': 0.7938128113746643, 'Y': 0.2337663322687149}, {'X': 0.8503191471099854, 'Y': 0.2337663322687149}, {'X': 0.8503191471099854, 'Y': 0.31862807273864746}, {'X': 0.7938128113746643, 'Y': 0.31862807273864746}]}, 'Id': 'ef213cab-663c-49e2-ab1a-7ddbb7d1c420'}, {'BlockType': 'WORD', 'Confidence': 99.89268493652344, 'Text': 'similar', 'TextType': 'PRINTED', 'Geometry': {'BoundingBox': {'Width': 0.11221525073051453, 'Height': 0.1068047285079956, 'Left': 0.8578989505767822, 'Top': 0.21178969740867615}, 'Polygon': [{'X': 0.8578989505767822, 'Y': 0.21178969740867615}, {'X': 0.9701141715049744, 'Y': 0.21178969740867615}, {'X': 0.9701141715049744, 'Y': 0.31859442591667175}, {'X': 0.8578989505767822, 'Y': 0.31859442591667175}]}, 'Id': '4edf7066-cb15-4956-b4b2-74a83d14f3fc'}, {'BlockType': 'WORD', 'Confidence': 99.95977783203125, 'Text': 'to', 'TextType': 'PRINTED', 'Geometry': {'BoundingBox': {'Width': 0.03490693122148514, 'Height': 0.1052543967962265, 'Left': 0.009811550378799438, 'Top': 0.39036500453948975}, 'Polygon': [{'X': 0.009811550378799438, 'Y': 0.39036500453948975}, {'X': 0.044718481600284576, 'Y': 0.39036500453948975}, {'X': 0.044718481600284576, 'Y': 0.49561938643455505}, {'X': 0.009811550378799438, 'Y': 0.49561938643455505}]}, 'Id': '5ff9b0a0-23c8-4cd2-8681-40152529aa29'}, {'BlockType': 'WORD', 'Confidence': 99.91548156738281, 'Text': 'a', 'TextType': 'PRINTED', 'Geometry': {'BoundingBox': {'Width': 0.024206390604376793, 'Height': 0.08401826024055481, 'Left': 0.051841430366039276, 'Top': 0.41261255741119385}, 'Polygon': [{'X': 0.051841430366039276, 'Y': 0.41261255741119385}, {'X': 0.07604782283306122, 'Y': 0.41261255741119385}, {'X': 0.07604782283306122, 'Y': 0.49663081765174866}, {'X': 0.051841430366039276, 'Y': 0.49663081765174866}]}, 'Id': '57633f19-6433-44a2-a43d-0c8c5ab748df'}, {'BlockType': 'WORD', 'Confidence': 99.93373107910156, 'Text': 'story,', 'TextType': 'PRINTED', 'Geometry': {'BoundingBox': {'Width': 0.09003226459026337, 'Height': 0.12450910359621048, 'Left': 0.08344827592372894, 'Top': 0.3935011923313141}, 'Polygon': [{'X': 0.08344827592372894, 'Y': 0.3935011923313141}, {'X': 0.1734805405139923, 'Y': 0.3935011923313141}, {'X': 0.1734805405139923, 'Y': 0.5180103182792664}, {'X': 0.08344827592372894, 'Y': 0.5180103182792664}]}, 'Id': 'cd7d5b6e-6e38-4bac-8e1b-6d9c94fcb886'}, {'BlockType': 'WORD', 'Confidence': 99.55707550048828, 'Text': 'pamphlet,', 'TextType': 'PRINTED', 'Geometry': {'BoundingBox': {'Width': 0.1660570204257965, 'Height': 0.13234853744506836, 'Left': 0.18315035104751587, 'Top': 0.3870599567890167}, 'Polygon': [{'X': 0.18315035104751587, 'Y': 0.3870599567890167}, {'X': 0.3492073714733124, 'Y': 0.3870599567890167}, {'X': 0.3492073714733124, 'Y': 0.5194085240364075}, {'X': 0.18315035104751587, 'Y': 0.5194085240364075}]}, 'Id': '52c167bf-76c0-4839-a5c5-6360c0f2f28c'}, {'BlockType': 'WORD', 'Confidence': 99.631591796875, 'Text': 'thesis,', 'TextType': 'PRINTED', 'Geometry': {'BoundingBox': {'Width': 0.10961136221885681, 'Height': 0.12169524282217026, 'Left': 0.35663387179374695, \n",
    "'Top': 0.38961508870124817}, 'Polygon': [{'X': 0.35663387179374695, 'Y': 0.38961508870124817}, {'X': 0.46624523401260376, 'Y': 0.38961508870124817}, {'X': 0.46624523401260376, 'Y': 0.511310338973999}, {'X': 0.35663387179374695, 'Y': 0.511310338973999}]}, 'Id': '713fbde8-bb2e-4ce3-8545-9066fc4921e4'}, {'BlockType': 'WORD', 'Confidence': 99.35096740722656, 'Text': 'etc.', 'TextType': 'PRINTED', 'Geometry': {'BoundingBox': {'Width': 0.06190202012658119, 'Height': 0.10526783019304276, 'Left': 0.4746595323085785, 'Top': 0.3919205665588379}, 'Polygon': [{'X': 0.4746595323085785, 'Y': 0.3919205665588379}, {'X': 0.5365615487098694, 'Y': 0.3919205665588379}, {'X': \n",
    "0.5365615487098694, 'Y': 0.49718838930130005}, {'X': 0.4746595323085785, 'Y': 0.49718838930130005}]}, 'Id': '716fbc99-1fd0-4634-a9fe-504aeae9abe8'}, {'BlockType': 'WORD', 'Confidence': 99.98418426513672, 'Text': 'The', 'TextType': 'PRINTED', 'Geometry': {'BoundingBox': {'Width': 0.06767884641885757, 'Height': 0.10575351119041443, \n",
    "'Left': 0.5444890856742859, 'Top': 0.38930031657218933}, 'Polygon': [{'X': 0.5444890856742859, 'Y': 0.38930031657218933}, {'X': 0.6121679544448853, 'Y': 0.38930031657218933}, {'X': 0.6121679544448853, 'Y': 0.49505382776260376}, {'X': 0.5444890856742859, 'Y': 0.49505382776260376}]}, 'Id': 'aeab2416-5a72-466e-ac58-016bada2436c'}, {'BlockType': 'WORD', 'Confidence': 99.95207214355469, 'Text': 'best', 'TextType': 'PRINTED', 'Geometry': {'BoundingBox': {'Width': 0.07427793741226196, 'Height': 0.1079324334859848, 'Left': 0.6200248003005981, 'Top': 0.38873371481895447}, 'Polygon': [{'X': 0.6200248003005981, 'Y': 0.38873371481895447}, {'X': 0.6943027377128601, 'Y': 0.38873371481895447}, {'X': 0.6943027377128601, 'Y': 0.4966661334037781}, {'X': 0.6200248003005981, 'Y': 0.4966661334037781}]}, 'Id': '7bb17ac4-99f4-4829-9477-865192835218'}, {'BlockType': 'WORD', 'Confidence': 99.9881820678711, 'Text': 'thing', 'TextType': 'PRINTED', 'Geometry': {'BoundingBox': {'Width': 0.08428984135389328, 'Height': 0.1292954981327057, 'Left': 0.699790358543396, 'Top': 0.3887772858142853}, 'Polygon': [{'X': 0.699790358543396, 'Y': 0.3887772858142853}, {'X': 0.7840802073478699, 'Y': 0.3887772858142853}, {'X': 0.7840802073478699, 'Y': 0.518072783946991}, {'X': 0.699790358543396, 'Y': 0.518072783946991}]}, 'Id': 'f5daa7af-89db-432d-931c-4dcc0466d92e'}, {'BlockType': 'WORD', 'Confidence': 99.94355773925781, 'Text': 'about', 'TextType': 'PRINTED', 'Geometry': {'BoundingBox': {'Width': 0.09787409752607346, 'Height': 0.1057816818356514, 'Left': 0.7918816804885864, 'Top': 0.39017537236213684}, 'Polygon': [{'X': 0.7918816804885864, 'Y': 0.39017537236213684}, {'X': 0.8897557854652405, 'Y': 0.39017537236213684}, {'X': 0.8897557854652405, 'Y': 0.49595704674720764}, {'X': 0.7918816804885864, 'Y': 0.49595704674720764}]}, 'Id': '3e21c24c-ebba-44b7-bf15-294bf4a8309f'}, {'BlockType': 'WORD', 'Confidence': 99.95689392089844, 'Text': 'Essay', 'TextType': 'PRINTED', 'Geometry': {'BoundingBox': {'Width': 0.11071883141994476, 'Height': 0.12923626601696014, 'Left': 0.012170050293207169, 'Top': 0.5667338371276855}, 'Polygon': [{'X': 0.012170050293207169, 'Y': 0.5667338371276855}, {'X': 0.12288887798786163, 'Y': 0.5667338371276855}, {'X': 0.12288887798786163, 'Y': 0.6959701180458069}, {'X': 0.012170050293207169, 'Y': 0.6959701180458069}]}, 'Id': '6d0a5ed0-8787-4e7b-adb2-3815ff00488d'}, {'BlockType': 'WORD', 'Confidence': 99.98026275634766, 'Text': 'is', 'TextType': 'PRINTED', 'Geometry': {'BoundingBox': {'Width': 0.0284450501203537, 'Height': 0.10613980144262314, 'Left': 0.13002558052539825, 'Top': 0.5665671229362488}, 'Polygon': [{'X': 0.13002558052539825, 'Y': 0.5665671229362488}, {'X': 0.15847063064575195, 'Y': 0.5665671229362488}, {'X': 0.15847063064575195, 'Y': 0.6727069020271301}, {'X': 0.13002558052539825, 'Y': 0.6727069020271301}]}, 'Id': '7405bad4-ebf0-4ec2-8fa5-4ec0f7bbd509'}, {'BlockType': 'WORD', 'Confidence': 99.97030639648438, 'Text': 'you', 'TextType': 'PRINTED', 'Geometry': {'BoundingBox': {'Width': 0.06291624903678894, 'Height': 0.10671795904636383, 'Left': 0.16582129895687103, 'Top': 0.5893621444702148}, 'Polygon': [{'X': 0.16582129895687103, 'Y': 0.5893621444702148}, {'X': 0.22873754799365997, 'Y': 0.5893621444702148}, {'X': 0.22873754799365997, 'Y': 0.6960800886154175}, {'X': 0.16582129895687103, 'Y': 0.6960800886154175}]}, 'Id': '01a5f43a-2409-434b-a2e0-97cf3fdbaf3d'}, {'BlockType': 'WORD', 'Confidence': 99.95806884765625, 'Text': 'can', 'TextType': 'PRINTED', 'Geometry': {'BoundingBox': {'Width': 0.06280021369457245, 'Height': 0.08550751209259033, 'Left': 0.2369619905948639, 'Top': 0.587904155254364}, 'Polygon': [{'X': 0.2369619905948639, 'Y': 0.587904155254364}, {'X': 0.29976218938827515, 'Y': 0.587904155254364}, {'X': 0.29976218938827515, 'Y': 0.6734116673469543}, {'X': 0.2369619905948639, 'Y': 0.6734116673469543}]}, 'Id': '90bbae37-00ba-46b4-8003-db7bfeb6e668'}, {'BlockType': 'WORD', 'Confidence': 99.9569091796875, 'Text': 'use', 'TextType': 'PRINTED', 'Geometry': {'BoundingBox': {'Width': 0.06294342130422592, 'Height': 0.08442845195531845, 'Left': 0.30804112553596497, 'Top': 0.5879644155502319}, 'Polygon': [{'X': 0.30804112553596497, 'Y': 0.5879644155502319}, {'X': 0.3709845542907715, 'Y': 0.5879644155502319}, {'X': 0.3709845542907715, 'Y': 0.6723928451538086}, {'X': 0.30804112553596497, 'Y': 0.6723928451538086}]}, 'Id': '3d6b8ff8-3a0b-442e-a1ab-259807b9342d'}, {'BlockType': 'WORD', 'Confidence': 99.99626159667969, 'Text': 'any', 'TextType': 'PRINTED', 'Geometry': {'BoundingBox': {'Width': 0.06408873200416565, 'Height': 0.10584714263677597, 'Left': 0.37809932231903076, 'Top': 0.5892120599746704}, 'Polygon': [{'X': 0.37809932231903076, 'Y': 0.5892120599746704}, {'X': 0.4421880543231964, 'Y': 0.5892120599746704}, {'X': 0.4421880543231964, 'Y': 0.6950591802597046}, {'X': 0.37809932231903076, 'Y': 0.6950591802597046}]}, 'Id': 'cf806383-5e35-4f5c-9d53-5f802ddb45ba'}, {'BlockType': 'WORD', 'Confidence': 99.94596862792969, 'Text': 'type', 'TextType': 'PRINTED', 'Geometry': {'BoundingBox': {'Width': 0.07484322786331177, 'Height': 0.12734374403953552, 'Left': 0.4475553035736084, 'Top': 0.5691712498664856}, 'Polygon': [{'X': 0.4475553035736084, 'Y': 0.5691712498664856}, {'X': 0.5223985314369202, 'Y': 0.5691712498664856}, {'X': 0.5223985314369202, 'Y': 0.6965150237083435}, {'X': 0.4475553035736084, 'Y': 0.6965150237083435}]}, 'Id': '79c5f157-3aa6-4b13-8571-23c72628340a'}, {'BlockType': 'WORD', 'Confidence': 99.99659729003906, 'Text': 'of', 'TextType': 'PRINTED', 'Geometry': {'BoundingBox': {'Width': 0.03603893890976906, 'Height': 0.10945960134267807, 'Left': 0.5298363566398621, 'Top': 0.5640311241149902}, 'Polygon': [{'X': 0.5298363566398621, 'Y': 0.5640311241149902}, {'X': 0.5658752918243408, 'Y': 0.5640311241149902}, {'X': 0.5658752918243408, 'Y': 0.6734907031059265}, {'X': 0.5298363566398621, 'Y': 0.6734907031059265}]}, 'Id': '1d9b98c7-1a52-4dc4-8a84-0accf199f9ae'}, {'BlockType': 'WORD', 'Confidence': 99.9024429321289, 'Text': 'language', 'TextType': 'PRINTED', 'Geometry': {'BoundingBox': {'Width': 0.15722684562206268, 'Height': 0.12800836563110352, 'Left': 0.5713462829589844, 'Top': 0.5679982304573059}, 'Polygon': [{'X': 0.5713462829589844, 'Y': 0.5679982304573059}, {'X': 0.7285731434822083, 'Y': 0.5679982304573059}, {'X': 0.7285731434822083, 'Y': 0.6960065960884094}, {'X': 0.5713462829589844, 'Y': 0.6960065960884094}]}, 'Id': 'acdef048-329e-47cf-bb06-9bbb06f13aa3'}, {'BlockType': 'WORD', 'Confidence': 97.90858459472656, 'Text': '-', 'TextType': 'PRINTED', 'Geometry': {'BoundingBox': {'Width': 0.027123739942908287, 'Height': 0.028066260740160942, 'Left': 0.7334356904029846, 'Top': 0.6176609396934509}, 'Polygon': [{'X': 0.7334356904029846, 'Y': 0.6176609396934509}, {'X': 0.7605594396591187, 'Y': 0.6176609396934509}, {'X': 0.7605594396591187, 'Y': 0.6457272171974182}, {'X': 0.7334356904029846, 'Y': 0.6457272171974182}]}, 'Id': '5e6bfd6c-78cc-4a5f-ae16-135654828ec1'}, {'BlockType': 'WORD', 'Confidence': 99.88188934326172, 'Text': 'formal', 'TextType': 'PRINTED', 'Geometry': {'BoundingBox': {'Width': 0.10748907178640366, 'Height': 0.10520046204328537, 'Left': 0.7659696340560913, 'Top': 0.5670165419578552}, 'Polygon': [{'X': 0.7659696340560913, 'Y': 0.5670165419578552}, {'X': 0.8734586834907532, 'Y': 0.5670165419578552}, {'X': 0.8734586834907532, 'Y': 0.6722170114517212}, {'X': 0.7659696340560913, 'Y': 0.6722170114517212}]}, 'Id': '469c992f-9745-4c2b-a8d3-0e36022a688a'}, {'BlockType': 'WORD', 'Confidence': 99.98927307128906, 'Text': 'or', 'TextType': 'PRINTED', 'Geometry': {'BoundingBox': {'Width': 0.038204871118068695, 'Height': 0.08383835107088089, 'Left': 0.8804163336753845, 'Top': 0.5882678031921387}, 'Polygon': [{'X': 0.8804163336753845, 'Y': 0.5882678031921387}, {'X': 0.9186211824417114, 'Y': 0.5882678031921387}, {'X': 0.9186211824417114, 'Y': 0.672106146812439}, {'X': 0.8804163336753845, 'Y': 0.672106146812439}]}, 'Id': '380ff085-4fe6-458e-82b6-f2d1a11b07e3'}, {'BlockType': 'WORD', 'Confidence': 98.32854461669922, 'Text': 'informal.', 'TextType': 'PRINTED', 'Geometry': {'BoundingBox': {'Width': 0.14624576270580292, 'Height': 0.10840409994125366, 'Left': 0.010423839092254639, 'Top': 0.7428397536277771}, 'Polygon': [{'X': 0.010423839092254639, 'Y': 0.7428397536277771}, {'X': \n",
    "0.15666960179805756, 'Y': 0.7428397536277771}, {'X': 0.15666960179805756, 'Y': 0.8512438535690308}, {'X': 0.010423839092254639, 'Y': 0.8512438535690308}]}, 'Id': 'ebc54045-b3ab-469c-9ead-161ba13c884d'}], 'DetectDocumentTextModelVersion': '1.0', 'ResponseMetadata': {'RequestId': '5763788e-a77c-444a-b404-946aa5f11a42', 'HTTPStatusCode': 200, 'HTTPHeaders': {'x-amzn-requestid': '5763788e-a77c-444a-b404-946aa5f11a42', 'content-type': 'application/x-amz-json-1.1', 'content-length': '26514', 'date': 'Thu, 13 May 2021 04:10:39 GMT'}, 'RetryAttempts': 0}}"
   ]
  },
  {
   "cell_type": "code",
   "execution_count": 32,
   "metadata": {
    "tags": []
   },
   "outputs": [],
   "source": [
    "text = ''\n",
    "for item in data[\"Blocks\"]:\n",
    "    if item[\"BlockType\"] == \"LINE\":\n",
    "         text += item[\"Text\"] + ' '"
   ]
  },
  {
   "cell_type": "code",
   "execution_count": 34,
   "metadata": {},
   "outputs": [
    {
     "output_type": "stream",
     "name": "stdout",
     "text": [
      "An essay is nothing but a piece of content which is written from the perception of writer or author. Essays are similar to a story, pamphlet, thesis, etc. The best thing about Essay is you can use any type of language - formal or informal. \n"
     ]
    }
   ],
   "source": [
    "print(text)"
   ]
  },
  {
   "cell_type": "code",
   "execution_count": null,
   "metadata": {},
   "outputs": [],
   "source": []
  }
 ]
}